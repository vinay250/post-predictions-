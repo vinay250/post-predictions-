{
 "cells": [
  {
   "cell_type": "code",
   "execution_count": 1,
   "metadata": {},
   "outputs": [],
   "source": [
    "import logging\n",
    "import os\n",
    "from datetime import datetime"
   ]
  },
  {
   "cell_type": "code",
   "execution_count": 2,
   "metadata": {},
   "outputs": [
    {
     "data": {
      "text/plain": [
       "datetime.datetime(2023, 12, 29, 18, 49, 44, 610099)"
      ]
     },
     "execution_count": 2,
     "metadata": {},
     "output_type": "execute_result"
    }
   ],
   "source": [
    "datetime.now()"
   ]
  },
  {
   "cell_type": "code",
   "execution_count": 3,
   "metadata": {},
   "outputs": [
    {
     "data": {
      "text/plain": [
       "'12_29_2023_18_49_53.log'"
      ]
     },
     "execution_count": 3,
     "metadata": {},
     "output_type": "execute_result"
    }
   ],
   "source": [
    "f\"{datetime.now().strftime('%m_%d_%Y_%H_%M_%S')}.log\""
   ]
  },
  {
   "cell_type": "code",
   "execution_count": 4,
   "metadata": {},
   "outputs": [
    {
     "data": {
      "text/plain": [
       "'e:\\\\postpredictions\\\\notebooks\\\\logs'"
      ]
     },
     "execution_count": 4,
     "metadata": {},
     "output_type": "execute_result"
    }
   ],
   "source": [
    "os.path.join(os.getcwd(),\"logs\")"
   ]
  },
  {
   "cell_type": "code",
   "execution_count": 15,
   "metadata": {},
   "outputs": [
    {
     "name": "stdout",
     "output_type": "stream",
     "text": [
      "Collecting package-name\n",
      "  Using cached package_name-0.1-py3-none-any.whl\n",
      "Installing collected packages: package-name\n",
      "Successfully installed package-name-0.1\n",
      "Note: you may need to restart the kernel to use updated packages.\n"
     ]
    }
   ],
   "source": [
    "pip install package-name\n"
   ]
  },
  {
   "cell_type": "code",
   "execution_count": 22,
   "metadata": {},
   "outputs": [
    {
     "name": "stdout",
     "output_type": "stream",
     "text": [
      "Collecting source\n",
      "  Downloading source-1.2.0.zip (921 bytes)\n",
      "  Preparing metadata (setup.py): started\n",
      "  Preparing metadata (setup.py): finished with status 'done'\n",
      "Building wheels for collected packages: source\n",
      "  Building wheel for source (setup.py): started\n",
      "  Building wheel for source (setup.py): finished with status 'done'\n",
      "  Created wheel for source: filename=source-1.2.0-py3-none-any.whl size=1342 sha256=e5e5fd72e7358a08aa5f2b3741991bd1a15816cbed0e989bbe4f9b44214ca857\n",
      "  Stored in directory: c:\\users\\hp\\appdata\\local\\pip\\cache\\wheels\\97\\5b\\10\\bfa714c4931581872aac58e6c3b89facd9ed3530c760b413f7\n",
      "Successfully built source\n",
      "Installing collected packages: source\n",
      "Successfully installed source-1.2.0\n",
      "Note: you may need to restart the kernel to use updated packages.\n"
     ]
    }
   ],
   "source": [
    "pip install source\n"
   ]
  },
  {
   "cell_type": "code",
   "execution_count": 3,
   "metadata": {},
   "outputs": [
    {
     "name": "stdout",
     "output_type": "stream",
     "text": [
      "['e:\\\\postpredictions\\\\notebooks', 'e:\\\\postpredictions\\\\ppvenv\\\\python38.zip', 'e:\\\\postpredictions\\\\ppvenv\\\\DLLs', 'e:\\\\postpredictions\\\\ppvenv\\\\lib', 'e:\\\\postpredictions\\\\ppvenv', '', 'e:\\\\postpredictions\\\\ppvenv\\\\lib\\\\site-packages', 'e:\\\\postpredictions\\\\ppvenv\\\\lib\\\\site-packages\\\\postpredictions-0.0.1-py3.8.egg', 'e:\\\\postpredictions\\\\ppvenv\\\\lib\\\\site-packages\\\\win32', 'e:\\\\postpredictions\\\\ppvenv\\\\lib\\\\site-packages\\\\win32\\\\lib', 'e:\\\\postpredictions\\\\ppvenv\\\\lib\\\\site-packages\\\\Pythonwin']\n"
     ]
    }
   ],
   "source": [
    "import sys\n",
    "print(sys.path)\n"
   ]
  },
  {
   "cell_type": "code",
   "execution_count": 4,
   "metadata": {},
   "outputs": [
    {
     "data": {
      "text/plain": [
       "('e:\\\\postpredictions\\\\ppvenv\\\\lib\\\\site-packages\\\\postpredictions-0.0.1-py3.8.egg',)"
      ]
     },
     "execution_count": 4,
     "metadata": {},
     "output_type": "execute_result"
    }
   ],
   "source": [
    "'e:\\\\postpredictions\\\\notebooks',\n",
    "'e:\\\\postpredictions\\\\ppvenv\\\\lib\\\\site-packages',\n",
    "'e:\\\\postpredictions\\\\ppvenv\\\\lib\\\\site-packages\\\\postpredictions-0.0.1-py3.8.egg',\n"
   ]
  },
  {
   "cell_type": "code",
   "execution_count": 1,
   "metadata": {},
   "outputs": [
    {
     "ename": "ModuleNotFoundError",
     "evalue": "No module named 'source.postpredictions'; 'source' is not a package",
     "output_type": "error",
     "traceback": [
      "\u001b[1;31m---------------------------------------------------------------------------\u001b[0m",
      "\u001b[1;31mModuleNotFoundError\u001b[0m                       Traceback (most recent call last)",
      "Cell \u001b[1;32mIn[1], line 1\u001b[0m\n\u001b[1;32m----> 1\u001b[0m \u001b[38;5;28;01mfrom\u001b[39;00m \u001b[38;5;21;01msource\u001b[39;00m\u001b[38;5;21;01m.\u001b[39;00m\u001b[38;5;21;01mpostpredictions\u001b[39;00m\u001b[38;5;21;01m.\u001b[39;00m\u001b[38;5;21;01mlogger\u001b[39;00m \u001b[38;5;28;01mimport\u001b[39;00m logging \n",
      "\u001b[1;31mModuleNotFoundError\u001b[0m: No module named 'source.postpredictions'; 'source' is not a package"
     ]
    }
   ],
   "source": [
    "from source.postpredictions.logger import logging \n"
   ]
  }
 ],
 "metadata": {
  "kernelspec": {
   "display_name": "Python 3",
   "language": "python",
   "name": "python3"
  },
  "language_info": {
   "codemirror_mode": {
    "name": "ipython",
    "version": 3
   },
   "file_extension": ".py",
   "mimetype": "text/x-python",
   "name": "python",
   "nbconvert_exporter": "python",
   "pygments_lexer": "ipython3",
   "version": "3.8.18"
  }
 },
 "nbformat": 4,
 "nbformat_minor": 2
}
